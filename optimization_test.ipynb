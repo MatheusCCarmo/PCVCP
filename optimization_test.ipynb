{
 "cells": [
  {
   "cell_type": "code",
   "execution_count": 1,
   "metadata": {},
   "outputs": [
    {
     "name": "stdout",
     "output_type": "stream",
     "text": [
      "Tour: [0, 3, 2]\n",
      "Cost: 83.0\n"
     ]
    }
   ],
   "source": [
    "from optimization import solve_pctsp\n",
    "\n",
    "node_prizes = [0, 24, 33, 43, 28, 30]\n",
    "node_penalties = [1000, 5, 5, 5, 5, 5]\n",
    "matrix = [\n",
    "    [0, 10, 20, 30, 40, 45],\n",
    "    [10, 0, 15, 25, 35, 40],\n",
    "    [20, 15, 0, 18, 28, 40],\n",
    "    [30, 25, 18, 0, 12, 40],\n",
    "    [40, 35, 28, 12, 0, 40],\n",
    "    [45, 40, 40, 40, 40,0],\n",
    "]\n",
    "quota = 70\n",
    "\n",
    "tour, cost = solve_pctsp(node_prizes, node_penalties, matrix, quota)\n",
    "\n",
    "if tour is None:\n",
    "    print('No solution found.')\n",
    "else:\n",
    "    print('Tour:', tour)\n",
    "    print('Cost:', cost)\n"
   ]
  }
 ],
 "metadata": {
  "kernelspec": {
   "display_name": "Python 3",
   "language": "python",
   "name": "python3"
  },
  "language_info": {
   "codemirror_mode": {
    "name": "ipython",
    "version": 3
   },
   "file_extension": ".py",
   "mimetype": "text/x-python",
   "name": "python",
   "nbconvert_exporter": "python",
   "pygments_lexer": "ipython3",
   "version": "3.10.10"
  },
  "orig_nbformat": 4
 },
 "nbformat": 4,
 "nbformat_minor": 2
}
